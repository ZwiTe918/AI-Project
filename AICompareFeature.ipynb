{
  "nbformat": 4,
  "nbformat_minor": 0,
  "metadata": {
    "colab": {
      "provenance": [],
      "authorship_tag": "ABX9TyPpdFt6IoUej1S6cGAmCc+n",
      "include_colab_link": true
    },
    "kernelspec": {
      "name": "python3",
      "display_name": "Python 3"
    },
    "language_info": {
      "name": "python"
    }
  },
  "cells": [
    {
      "cell_type": "markdown",
      "metadata": {
        "id": "view-in-github",
        "colab_type": "text"
      },
      "source": [
        "<a href=\"https://colab.research.google.com/github/ZwiTe918/AI-Project/blob/main/AICompareFeature.ipynb\" target=\"_parent\"><img src=\"https://colab.research.google.com/assets/colab-badge.svg\" alt=\"Open In Colab\"/></a>"
      ]
    },
    {
      "cell_type": "markdown",
      "source": [
        "# Step 01: Install All the Required Packages"
      ],
      "metadata": {
        "id": "fWfiyOAoRldx"
      }
    },
    {
      "cell_type": "code",
      "execution_count": null,
      "metadata": {
        "id": "9IyR8a-Kh0Dx"
      },
      "outputs": [],
      "source": [
        "!pip install llama-index==0.10.10 llama-hub pypdf"
      ]
    },
    {
      "cell_type": "code",
      "source": [
        "!pip install --upgrade llama_index\n",
        "!pip install --upgrade llama-index-core\n",
        "!pip install llama-index-embeddings-anyscale\n",
        "!pip install -U llama-index llama-index-core llama-index-llms-openai"
      ],
      "metadata": {
        "id": "ovKYfMRRlazh"
      },
      "execution_count": null,
      "outputs": []
    },
    {
      "cell_type": "markdown",
      "source": [
        "# Step 02: Get openai api_key"
      ],
      "metadata": {
        "id": "AfN7K-UfSKZF"
      }
    },
    {
      "cell_type": "code",
      "source": [
        "import openai\n",
        "openai.api_key = \"sk-proj-f4oOJHF98SghPivgA7T8T3BlbkFJMqvSyeNitDOPTWJS6Ugc\""
      ],
      "metadata": {
        "id": "9LBm8BchlSXU",
        "colab": {
          "base_uri": "https://localhost:8080/",
          "height": 17
        },
        "outputId": "2390a355-16a4-443b-bcdd-76aea6f96bb3"
      },
      "execution_count": null,
      "outputs": [
        {
          "output_type": "display_data",
          "data": {
            "text/plain": [
              "<IPython.core.display.HTML object>"
            ],
            "text/html": [
              "\n",
              "  <style>\n",
              "    pre {\n",
              "        white-space: pre-wrap;\n",
              "    }\n",
              "  </style>\n",
              "  "
            ]
          },
          "metadata": {}
        }
      ]
    },
    {
      "cell_type": "markdown",
      "source": [
        "# Step 03: Import All the Required Libraries"
      ],
      "metadata": {
        "id": "yRI5rpK3SBvt"
      }
    },
    {
      "cell_type": "code",
      "source": [
        "from llama_index.core import SimpleDirectoryReader, ServiceContext, VectorStoreIndex\n",
        "from llama_index.llms.openai import OpenAI\n",
        "\n",
        "from llama_index.core.tools import QueryEngineTool, ToolMetadata\n",
        "from llama_index.core.query_engine import SubQuestionQueryEngine\n",
        "from llama_index.core.settings import Settings"
      ],
      "metadata": {
        "id": "2lkFyLf_mBjV",
        "colab": {
          "base_uri": "https://localhost:8080/",
          "height": 17
        },
        "outputId": "a904e444-4c33-4ff9-96ba-58fa1fe89c38"
      },
      "execution_count": null,
      "outputs": [
        {
          "output_type": "display_data",
          "data": {
            "text/plain": [
              "<IPython.core.display.HTML object>"
            ],
            "text/html": [
              "\n",
              "  <style>\n",
              "    pre {\n",
              "        white-space: pre-wrap;\n",
              "    }\n",
              "  </style>\n",
              "  "
            ]
          },
          "metadata": {}
        }
      ]
    },
    {
      "cell_type": "code",
      "source": [
        "from IPython.display import HTML, display\n",
        "\n",
        "def set_css():\n",
        "  display(HTML('''\n",
        "  <style>\n",
        "    pre {\n",
        "        white-space: pre-wrap;\n",
        "    }\n",
        "  </style>\n",
        "  '''))\n",
        "get_ipython().events.register('pre_run_cell', set_css)"
      ],
      "metadata": {
        "id": "C28qPu9nXoLh",
        "colab": {
          "base_uri": "https://localhost:8080/",
          "height": 17
        },
        "outputId": "8010bd8f-53ed-4696-ca4f-1a662cf53cda"
      },
      "execution_count": null,
      "outputs": [
        {
          "output_type": "display_data",
          "data": {
            "text/plain": [
              "<IPython.core.display.HTML object>"
            ],
            "text/html": [
              "\n",
              "  <style>\n",
              "    pre {\n",
              "        white-space: pre-wrap;\n",
              "    }\n",
              "  </style>\n",
              "  "
            ]
          },
          "metadata": {}
        }
      ]
    },
    {
      "cell_type": "markdown",
      "source": [
        "# Step 04: Choose which openai model to use."
      ],
      "metadata": {
        "id": "Txq_oM8jSb1g"
      }
    },
    {
      "cell_type": "code",
      "source": [
        "llm = OpenAI(temperature=0.5, model=\"gpt-4-turbo\", max_tokens=100)\n",
        "service_context = ServiceContext.from_defaults(llm=llm, chunk_size=800, chunk_overlap=20)"
      ],
      "metadata": {
        "id": "Rf0zgFOcmSiI"
      },
      "execution_count": null,
      "outputs": []
    },
    {
      "cell_type": "markdown",
      "source": [
        "# Step 05: Create two folders to store the files in comparison."
      ],
      "metadata": {
        "id": "cIGwovbUSrJB"
      }
    },
    {
      "cell_type": "code",
      "source": [
        "!mkdir doc1\n",
        "!mkdir doc2"
      ],
      "metadata": {
        "id": "J4s-FQFPnjl-",
        "colab": {
          "base_uri": "https://localhost:8080/",
          "height": 52
        },
        "outputId": "3b83e695-6226-4294-cdb1-b56b85fa0fae"
      },
      "execution_count": null,
      "outputs": [
        {
          "output_type": "display_data",
          "data": {
            "text/plain": [
              "<IPython.core.display.HTML object>"
            ],
            "text/html": [
              "\n",
              "  <style>\n",
              "    pre {\n",
              "        white-space: pre-wrap;\n",
              "    }\n",
              "  </style>\n",
              "  "
            ]
          },
          "metadata": {}
        },
        {
          "output_type": "display_data",
          "data": {
            "text/plain": [
              "<IPython.core.display.HTML object>"
            ],
            "text/html": [
              "\n",
              "  <style>\n",
              "    pre {\n",
              "        white-space: pre-wrap;\n",
              "    }\n",
              "  </style>\n",
              "  "
            ]
          },
          "metadata": {}
        },
        {
          "output_type": "stream",
          "name": "stdout",
          "text": [
            "mkdir: cannot create directory ‘doc1’: File exists\n",
            "mkdir: cannot create directory ‘doc2’: File exists\n"
          ]
        }
      ]
    },
    {
      "cell_type": "markdown",
      "source": [
        "# Step 06: Load the PDF Files and Extract the Data From the PDF Files"
      ],
      "metadata": {
        "id": "5fldLtDSTJhK"
      }
    },
    {
      "cell_type": "code",
      "source": [
        "document1 = SimpleDirectoryReader(\"doc1\").load_data()\n",
        "document2 = SimpleDirectoryReader(\"doc2\").load_data()"
      ],
      "metadata": {
        "id": "tscHKuJinxWc",
        "colab": {
          "base_uri": "https://localhost:8080/",
          "height": 17
        },
        "outputId": "f1616ec7-5bc7-4c0c-d41d-e7cebdb4a843"
      },
      "execution_count": null,
      "outputs": [
        {
          "output_type": "display_data",
          "data": {
            "text/plain": [
              "<IPython.core.display.HTML object>"
            ],
            "text/html": [
              "\n",
              "  <style>\n",
              "    pre {\n",
              "        white-space: pre-wrap;\n",
              "    }\n",
              "  </style>\n",
              "  "
            ]
          },
          "metadata": {}
        },
        {
          "output_type": "display_data",
          "data": {
            "text/plain": [
              "<IPython.core.display.HTML object>"
            ],
            "text/html": [
              "\n",
              "  <style>\n",
              "    pre {\n",
              "        white-space: pre-wrap;\n",
              "    }\n",
              "  </style>\n",
              "  "
            ]
          },
          "metadata": {}
        }
      ]
    },
    {
      "cell_type": "code",
      "source": [
        "print(document1,\"\\n\")"
      ],
      "metadata": {
        "id": "h8g4VCSGqO4u"
      },
      "execution_count": null,
      "outputs": []
    },
    {
      "cell_type": "code",
      "source": [
        "print(document2,\"\\n\")"
      ],
      "metadata": {
        "id": "5WnYZSstqR84"
      },
      "execution_count": null,
      "outputs": []
    },
    {
      "cell_type": "markdown",
      "source": [
        "# Step 07: Setup baseline index."
      ],
      "metadata": {
        "id": "QTcQ7jXTTNcr"
      }
    },
    {
      "cell_type": "code",
      "source": [
        "base_index = VectorStoreIndex.from_documents(document1 + document2)\n",
        "base_engine = base_index.as_query_engine(similarity_top_k=4)"
      ],
      "metadata": {
        "id": "K62MmoB3oQLd",
        "colab": {
          "base_uri": "https://localhost:8080/",
          "height": 17
        },
        "outputId": "74e1fd97-12d0-4c05-f8e9-92d7768e9402"
      },
      "execution_count": null,
      "outputs": [
        {
          "output_type": "display_data",
          "data": {
            "text/plain": [
              "<IPython.core.display.HTML object>"
            ],
            "text/html": [
              "\n",
              "  <style>\n",
              "    pre {\n",
              "        white-space: pre-wrap;\n",
              "    }\n",
              "  </style>\n",
              "  "
            ]
          },
          "metadata": {}
        },
        {
          "output_type": "display_data",
          "data": {
            "text/plain": [
              "<IPython.core.display.HTML object>"
            ],
            "text/html": [
              "\n",
              "  <style>\n",
              "    pre {\n",
              "        white-space: pre-wrap;\n",
              "    }\n",
              "  </style>\n",
              "  "
            ]
          },
          "metadata": {}
        }
      ]
    },
    {
      "cell_type": "markdown",
      "source": [
        "# Step 08: Query the files."
      ],
      "metadata": {
        "id": "NyNZFIrGTXjU"
      }
    },
    {
      "cell_type": "code",
      "source": [
        "response = base_engine.query(\"What are the main differences between the two documents?\")\n",
        "print(str(response),\"\\n\")"
      ],
      "metadata": {
        "colab": {
          "base_uri": "https://localhost:8080/",
          "height": 69
        },
        "id": "YOAzHUZyoY4F",
        "outputId": "6f2717bf-38cc-413d-c79a-9939bd6b145e"
      },
      "execution_count": null,
      "outputs": [
        {
          "output_type": "display_data",
          "data": {
            "text/plain": [
              "<IPython.core.display.HTML object>"
            ],
            "text/html": [
              "\n",
              "  <style>\n",
              "    pre {\n",
              "        white-space: pre-wrap;\n",
              "    }\n",
              "  </style>\n",
              "  "
            ]
          },
          "metadata": {}
        },
        {
          "output_type": "display_data",
          "data": {
            "text/plain": [
              "<IPython.core.display.HTML object>"
            ],
            "text/html": [
              "\n",
              "  <style>\n",
              "    pre {\n",
              "        white-space: pre-wrap;\n",
              "    }\n",
              "  </style>\n",
              "  "
            ]
          },
          "metadata": {}
        },
        {
          "output_type": "stream",
          "name": "stdout",
          "text": [
            "The main differences between the two documents are the file paths and the page labels. The content of the documents appears to be identical, discussing the conceptual modeling using UML for an insurance company scenario. \n",
            "\n"
          ]
        }
      ]
    }
  ]
}